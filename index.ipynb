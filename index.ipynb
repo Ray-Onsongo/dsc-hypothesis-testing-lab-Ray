{
 "cells": [
  {
   "cell_type": "markdown",
   "metadata": {},
   "source": [
    "# Hypothesis Testing - Cumulative Lab\n",
    "\n",
    "## Introduction\n",
    "\n",
    "In this cumulative lab, you will use pandas to clean up a dataset and perform some EDA, then perform statistical tests and interpret their results in order to answer some business questions.\n",
    "\n",
    "## Objectives\n",
    "\n",
    "You will be able to:\n",
    "\n",
    "* Practice using a data dictionary\n",
    "* Practice using pandas to prepare data for statistical analysis\n",
    "* Practice identifying an appropriate statistical test for a given question\n",
    "* Practice defining the null and alternative hypotheses\n",
    "* Practice executing statistical tests and interpreting their results"
   ]
  },
  {
   "cell_type": "markdown",
   "metadata": {},
   "source": [
    "## Your Task: Analyzing Health Trends\n",
    "\n",
    "![tissues and tea mug](images/sick_day.jpg)\n",
    "\n",
    "Photo by <a href=\"https://unsplash.com/@kellysikkema?utm_source=unsplash&utm_medium=referral&utm_content=creditCopyText\">Kelly Sikkema</a> on <a href=\"/?utm_source=unsplash&utm_medium=referral&utm_content=creditCopyText\">Unsplash</a>"
   ]
  },
  {
   "cell_type": "markdown",
   "metadata": {},
   "source": [
    "### Business Understanding\n",
    "\n",
    "Flatiron Health Insurance (FHI) is a growing private healthcare insurance provider founded on the premise that using data and analytics can improve the health insurance industry by providing better care and offerings to its patients. Every year, the Center for Disease Control (CDC) conducts surveys to understand the latest demographic, health, and fitness trends. You have been tasked with analyzing the recently published results of the 2017-2018 survey and providing your recommendations back to the Chief Analytics Officer and Chief Marketing Officer. You have been assigned the task of taking a first look at the data and beginning to answer several key questions:\n",
    "\t\t\t\t\t\t\t\t\t\t\t \t\t\t\t\t\t\t\t\n",
    "1. How does health status, represented by average number of days with bad physical health in the past month (`PHYSHLTH`), differ by state?\t\t\t\t\t \t\t\t\t\t\t\t\t\n",
    "2. Digging deeper into the data, what are some factors that impact health (demographics, behaviors, etc.)?\t\n",
    "\n",
    "### Data Understanding\n",
    "\n",
    "To get you started, the IT department formatted the data set into a tab delimited text file for only NY, NJ, and CT (FHI’s primary markets) called `case_study.csv`.\n",
    "\n",
    "There is also a PDF data dictionary called `data_dictionary.pdf`, which explains the meanings of the features and codes contained in this dataset.\n",
    "\n",
    "Both files are located in the `data/` directory of this repository.\n",
    "\n",
    "Prior to each statistical test, you will need to perform some data preparation, which could include:\n",
    "\n",
    "* Filtering out rows with irrelevant values\n",
    "* Transforming data from codes into human-readable values\n",
    "* Binning data to transform it from numeric to categorical\n",
    "* Creating new columns based on queries of the values in other columns\n",
    "\n",
    "For steps 2-5, you will need to select and execute an appropriate statistical test. Recall these tests we have learned so far:\n",
    "\n",
    "1. [Chi-squared test](https://docs.scipy.org/doc/scipy/reference/generated/scipy.stats.chi2_contingency.html): used for comparing a categorical feature against a categorical feature, to determine whether they are independent\n",
    "2. [t-test](https://docs.scipy.org/doc/scipy/reference/generated/scipy.stats.ttest_ind.html): used for comparing two categories of a numeric feature, to determine whether their means are the same across categories\n",
    "3. [ANOVA](https://www.statsmodels.org/stable/generated/statsmodels.stats.anova.anova_lm.html#statsmodels.stats.anova.anova_lm): used for comparing more than two categories of a numeric feature, to determine whether their means are the same across categories"
   ]
  },
  {
   "cell_type": "markdown",
   "metadata": {},
   "source": [
    "### Requirements\n",
    "\n",
    "#### 1. Prepare `PHYSHLTH` Data for Analysis\n",
    "\n",
    "Using the data dictionary, ensure that you understand the meaning of the `PHYSHLTH` column. Then clean the data so that only valid records of `PHYSHLTH` remain.\n",
    "\n",
    "#### 2. Describe the Distribution of Health Status by State\n",
    "\n",
    "Does health status (`PHYSHLTH`) differ by state (`STATE_`)? If so, by how much, and is it statistically significant?\n",
    "\n",
    "#### 3. Describe the Relationship between Health Status and Home Ownership Status\n",
    "\n",
    "Does health status (`PHYSHLTH`) differ between home owners and renters (`RENTHOM1`)? If so, by how much, and is it statistically significant?\n",
    "\n",
    "#### 4. Describe the Relationship between Chronic Sickness and Nicotine Use\n",
    "\n",
    "Does chronic sickness (`PHYSHLTH >= 15`) differ based on nicotine use (various columns)? If so, by how much, and is it statistically significant?\n",
    "\n",
    "#### 5. Choose Your Own Question\n",
    "\n",
    "Thinking about the business case, what is another question that might be useful to answer? Perform all analysis steps to answer this question."
   ]
  },
  {
   "cell_type": "markdown",
   "metadata": {},
   "source": [
    "## 1. Prepare `PHYSHLTH` Data for Analysis\n",
    "\n",
    "In the cells below, we include the relevant imports and load the data into a dataframe called `df`:"
   ]
  },
  {
   "cell_type": "code",
   "execution_count": 1,
   "metadata": {},
   "outputs": [],
   "source": [
    "# Run this cell without changes\n",
    "import pandas as pd\n",
    "import matplotlib.pyplot as plt\n",
    "import numpy as np\n",
    "%matplotlib inline"
   ]
  },
  {
   "cell_type": "code",
   "execution_count": 2,
   "metadata": {},
   "outputs": [
    {
     "data": {
      "text/html": [
       "<div>\n",
       "<style scoped>\n",
       "    .dataframe tbody tr th:only-of-type {\n",
       "        vertical-align: middle;\n",
       "    }\n",
       "\n",
       "    .dataframe tbody tr th {\n",
       "        vertical-align: top;\n",
       "    }\n",
       "\n",
       "    .dataframe thead th {\n",
       "        text-align: right;\n",
       "    }\n",
       "</style>\n",
       "<table border=\"1\" class=\"dataframe\">\n",
       "  <thead>\n",
       "    <tr style=\"text-align: right;\">\n",
       "      <th></th>\n",
       "      <th>_STATE</th>\n",
       "      <th>FMONTH</th>\n",
       "      <th>IDATE</th>\n",
       "      <th>IMONTH</th>\n",
       "      <th>IDAY</th>\n",
       "      <th>IYEAR</th>\n",
       "      <th>DISPCODE</th>\n",
       "      <th>SEQNO</th>\n",
       "      <th>_PSU</th>\n",
       "      <th>CTELENM1</th>\n",
       "      <th>...</th>\n",
       "      <th>_PA300R2</th>\n",
       "      <th>_PA30021</th>\n",
       "      <th>_PASTRNG</th>\n",
       "      <th>_PAREC1</th>\n",
       "      <th>_PASTAE1</th>\n",
       "      <th>_RFSEAT2</th>\n",
       "      <th>_RFSEAT3</th>\n",
       "      <th>_FLSHOT6</th>\n",
       "      <th>_PNEUMO2</th>\n",
       "      <th>_AIDTST3</th>\n",
       "    </tr>\n",
       "  </thead>\n",
       "  <tbody>\n",
       "    <tr>\n",
       "      <th>49938</th>\n",
       "      <td>9.0</td>\n",
       "      <td>5.0</td>\n",
       "      <td>5172017</td>\n",
       "      <td>5</td>\n",
       "      <td>17</td>\n",
       "      <td>2017</td>\n",
       "      <td>1200.0</td>\n",
       "      <td>2017000001</td>\n",
       "      <td>2.017000e+09</td>\n",
       "      <td>NaN</td>\n",
       "      <td>...</td>\n",
       "      <td>2.0</td>\n",
       "      <td>2.0</td>\n",
       "      <td>2.0</td>\n",
       "      <td>4.0</td>\n",
       "      <td>2.0</td>\n",
       "      <td>1.0</td>\n",
       "      <td>1.0</td>\n",
       "      <td>NaN</td>\n",
       "      <td>NaN</td>\n",
       "      <td>1.0</td>\n",
       "    </tr>\n",
       "    <tr>\n",
       "      <th>49939</th>\n",
       "      <td>9.0</td>\n",
       "      <td>2.0</td>\n",
       "      <td>2142017</td>\n",
       "      <td>2</td>\n",
       "      <td>14</td>\n",
       "      <td>2017</td>\n",
       "      <td>1200.0</td>\n",
       "      <td>2017000002</td>\n",
       "      <td>2.017000e+09</td>\n",
       "      <td>NaN</td>\n",
       "      <td>...</td>\n",
       "      <td>1.0</td>\n",
       "      <td>1.0</td>\n",
       "      <td>1.0</td>\n",
       "      <td>1.0</td>\n",
       "      <td>1.0</td>\n",
       "      <td>2.0</td>\n",
       "      <td>2.0</td>\n",
       "      <td>NaN</td>\n",
       "      <td>NaN</td>\n",
       "      <td>2.0</td>\n",
       "    </tr>\n",
       "    <tr>\n",
       "      <th>49940</th>\n",
       "      <td>9.0</td>\n",
       "      <td>1.0</td>\n",
       "      <td>1292017</td>\n",
       "      <td>1</td>\n",
       "      <td>29</td>\n",
       "      <td>2017</td>\n",
       "      <td>1200.0</td>\n",
       "      <td>2017000003</td>\n",
       "      <td>2.017000e+09</td>\n",
       "      <td>NaN</td>\n",
       "      <td>...</td>\n",
       "      <td>3.0</td>\n",
       "      <td>2.0</td>\n",
       "      <td>1.0</td>\n",
       "      <td>3.0</td>\n",
       "      <td>2.0</td>\n",
       "      <td>1.0</td>\n",
       "      <td>1.0</td>\n",
       "      <td>NaN</td>\n",
       "      <td>NaN</td>\n",
       "      <td>2.0</td>\n",
       "    </tr>\n",
       "    <tr>\n",
       "      <th>49941</th>\n",
       "      <td>9.0</td>\n",
       "      <td>7.0</td>\n",
       "      <td>9112017</td>\n",
       "      <td>9</td>\n",
       "      <td>11</td>\n",
       "      <td>2017</td>\n",
       "      <td>1200.0</td>\n",
       "      <td>2017000004</td>\n",
       "      <td>2.017000e+09</td>\n",
       "      <td>NaN</td>\n",
       "      <td>...</td>\n",
       "      <td>2.0</td>\n",
       "      <td>2.0</td>\n",
       "      <td>2.0</td>\n",
       "      <td>2.0</td>\n",
       "      <td>2.0</td>\n",
       "      <td>1.0</td>\n",
       "      <td>1.0</td>\n",
       "      <td>NaN</td>\n",
       "      <td>NaN</td>\n",
       "      <td>1.0</td>\n",
       "    </tr>\n",
       "    <tr>\n",
       "      <th>49942</th>\n",
       "      <td>9.0</td>\n",
       "      <td>5.0</td>\n",
       "      <td>7182017</td>\n",
       "      <td>7</td>\n",
       "      <td>18</td>\n",
       "      <td>2017</td>\n",
       "      <td>1200.0</td>\n",
       "      <td>2017000005</td>\n",
       "      <td>2.017000e+09</td>\n",
       "      <td>NaN</td>\n",
       "      <td>...</td>\n",
       "      <td>2.0</td>\n",
       "      <td>2.0</td>\n",
       "      <td>1.0</td>\n",
       "      <td>1.0</td>\n",
       "      <td>1.0</td>\n",
       "      <td>1.0</td>\n",
       "      <td>1.0</td>\n",
       "      <td>NaN</td>\n",
       "      <td>NaN</td>\n",
       "      <td>2.0</td>\n",
       "    </tr>\n",
       "    <tr>\n",
       "      <th>...</th>\n",
       "      <td>...</td>\n",
       "      <td>...</td>\n",
       "      <td>...</td>\n",
       "      <td>...</td>\n",
       "      <td>...</td>\n",
       "      <td>...</td>\n",
       "      <td>...</td>\n",
       "      <td>...</td>\n",
       "      <td>...</td>\n",
       "      <td>...</td>\n",
       "      <td>...</td>\n",
       "      <td>...</td>\n",
       "      <td>...</td>\n",
       "      <td>...</td>\n",
       "      <td>...</td>\n",
       "      <td>...</td>\n",
       "      <td>...</td>\n",
       "      <td>...</td>\n",
       "      <td>...</td>\n",
       "      <td>...</td>\n",
       "      <td>...</td>\n",
       "    </tr>\n",
       "    <tr>\n",
       "      <th>303774</th>\n",
       "      <td>36.0</td>\n",
       "      <td>5.0</td>\n",
       "      <td>5152017</td>\n",
       "      <td>5</td>\n",
       "      <td>15</td>\n",
       "      <td>2017</td>\n",
       "      <td>1200.0</td>\n",
       "      <td>2017012245</td>\n",
       "      <td>2.017012e+09</td>\n",
       "      <td>NaN</td>\n",
       "      <td>...</td>\n",
       "      <td>3.0</td>\n",
       "      <td>2.0</td>\n",
       "      <td>2.0</td>\n",
       "      <td>4.0</td>\n",
       "      <td>2.0</td>\n",
       "      <td>1.0</td>\n",
       "      <td>1.0</td>\n",
       "      <td>NaN</td>\n",
       "      <td>NaN</td>\n",
       "      <td>1.0</td>\n",
       "    </tr>\n",
       "    <tr>\n",
       "      <th>303775</th>\n",
       "      <td>36.0</td>\n",
       "      <td>6.0</td>\n",
       "      <td>6252017</td>\n",
       "      <td>6</td>\n",
       "      <td>25</td>\n",
       "      <td>2017</td>\n",
       "      <td>1200.0</td>\n",
       "      <td>2017012246</td>\n",
       "      <td>2.017012e+09</td>\n",
       "      <td>NaN</td>\n",
       "      <td>...</td>\n",
       "      <td>2.0</td>\n",
       "      <td>2.0</td>\n",
       "      <td>2.0</td>\n",
       "      <td>4.0</td>\n",
       "      <td>2.0</td>\n",
       "      <td>1.0</td>\n",
       "      <td>1.0</td>\n",
       "      <td>NaN</td>\n",
       "      <td>NaN</td>\n",
       "      <td>1.0</td>\n",
       "    </tr>\n",
       "    <tr>\n",
       "      <th>303776</th>\n",
       "      <td>36.0</td>\n",
       "      <td>7.0</td>\n",
       "      <td>7212017</td>\n",
       "      <td>7</td>\n",
       "      <td>21</td>\n",
       "      <td>2017</td>\n",
       "      <td>1200.0</td>\n",
       "      <td>2017012247</td>\n",
       "      <td>2.017012e+09</td>\n",
       "      <td>NaN</td>\n",
       "      <td>...</td>\n",
       "      <td>2.0</td>\n",
       "      <td>2.0</td>\n",
       "      <td>2.0</td>\n",
       "      <td>4.0</td>\n",
       "      <td>2.0</td>\n",
       "      <td>1.0</td>\n",
       "      <td>1.0</td>\n",
       "      <td>NaN</td>\n",
       "      <td>NaN</td>\n",
       "      <td>1.0</td>\n",
       "    </tr>\n",
       "    <tr>\n",
       "      <th>303777</th>\n",
       "      <td>36.0</td>\n",
       "      <td>7.0</td>\n",
       "      <td>7202017</td>\n",
       "      <td>7</td>\n",
       "      <td>20</td>\n",
       "      <td>2017</td>\n",
       "      <td>1200.0</td>\n",
       "      <td>2017012248</td>\n",
       "      <td>2.017012e+09</td>\n",
       "      <td>NaN</td>\n",
       "      <td>...</td>\n",
       "      <td>9.0</td>\n",
       "      <td>9.0</td>\n",
       "      <td>9.0</td>\n",
       "      <td>9.0</td>\n",
       "      <td>9.0</td>\n",
       "      <td>9.0</td>\n",
       "      <td>9.0</td>\n",
       "      <td>9.0</td>\n",
       "      <td>9.0</td>\n",
       "      <td>9.0</td>\n",
       "    </tr>\n",
       "    <tr>\n",
       "      <th>303778</th>\n",
       "      <td>36.0</td>\n",
       "      <td>7.0</td>\n",
       "      <td>7252017</td>\n",
       "      <td>7</td>\n",
       "      <td>25</td>\n",
       "      <td>2017</td>\n",
       "      <td>1200.0</td>\n",
       "      <td>2017012249</td>\n",
       "      <td>2.017012e+09</td>\n",
       "      <td>NaN</td>\n",
       "      <td>...</td>\n",
       "      <td>3.0</td>\n",
       "      <td>2.0</td>\n",
       "      <td>2.0</td>\n",
       "      <td>4.0</td>\n",
       "      <td>2.0</td>\n",
       "      <td>1.0</td>\n",
       "      <td>1.0</td>\n",
       "      <td>NaN</td>\n",
       "      <td>NaN</td>\n",
       "      <td>1.0</td>\n",
       "    </tr>\n",
       "  </tbody>\n",
       "</table>\n",
       "<p>34545 rows × 358 columns</p>\n",
       "</div>"
      ],
      "text/plain": [
       "        _STATE  FMONTH    IDATE  IMONTH  IDAY  IYEAR  DISPCODE       SEQNO  \\\n",
       "49938      9.0     5.0  5172017       5    17   2017    1200.0  2017000001   \n",
       "49939      9.0     2.0  2142017       2    14   2017    1200.0  2017000002   \n",
       "49940      9.0     1.0  1292017       1    29   2017    1200.0  2017000003   \n",
       "49941      9.0     7.0  9112017       9    11   2017    1200.0  2017000004   \n",
       "49942      9.0     5.0  7182017       7    18   2017    1200.0  2017000005   \n",
       "...        ...     ...      ...     ...   ...    ...       ...         ...   \n",
       "303774    36.0     5.0  5152017       5    15   2017    1200.0  2017012245   \n",
       "303775    36.0     6.0  6252017       6    25   2017    1200.0  2017012246   \n",
       "303776    36.0     7.0  7212017       7    21   2017    1200.0  2017012247   \n",
       "303777    36.0     7.0  7202017       7    20   2017    1200.0  2017012248   \n",
       "303778    36.0     7.0  7252017       7    25   2017    1200.0  2017012249   \n",
       "\n",
       "                _PSU  CTELENM1  ...  _PA300R2  _PA30021  _PASTRNG  _PAREC1  \\\n",
       "49938   2.017000e+09       NaN  ...       2.0       2.0       2.0      4.0   \n",
       "49939   2.017000e+09       NaN  ...       1.0       1.0       1.0      1.0   \n",
       "49940   2.017000e+09       NaN  ...       3.0       2.0       1.0      3.0   \n",
       "49941   2.017000e+09       NaN  ...       2.0       2.0       2.0      2.0   \n",
       "49942   2.017000e+09       NaN  ...       2.0       2.0       1.0      1.0   \n",
       "...              ...       ...  ...       ...       ...       ...      ...   \n",
       "303774  2.017012e+09       NaN  ...       3.0       2.0       2.0      4.0   \n",
       "303775  2.017012e+09       NaN  ...       2.0       2.0       2.0      4.0   \n",
       "303776  2.017012e+09       NaN  ...       2.0       2.0       2.0      4.0   \n",
       "303777  2.017012e+09       NaN  ...       9.0       9.0       9.0      9.0   \n",
       "303778  2.017012e+09       NaN  ...       3.0       2.0       2.0      4.0   \n",
       "\n",
       "        _PASTAE1  _RFSEAT2  _RFSEAT3  _FLSHOT6  _PNEUMO2  _AIDTST3  \n",
       "49938        2.0       1.0       1.0       NaN       NaN       1.0  \n",
       "49939        1.0       2.0       2.0       NaN       NaN       2.0  \n",
       "49940        2.0       1.0       1.0       NaN       NaN       2.0  \n",
       "49941        2.0       1.0       1.0       NaN       NaN       1.0  \n",
       "49942        1.0       1.0       1.0       NaN       NaN       2.0  \n",
       "...          ...       ...       ...       ...       ...       ...  \n",
       "303774       2.0       1.0       1.0       NaN       NaN       1.0  \n",
       "303775       2.0       1.0       1.0       NaN       NaN       1.0  \n",
       "303776       2.0       1.0       1.0       NaN       NaN       1.0  \n",
       "303777       9.0       9.0       9.0       9.0       9.0       9.0  \n",
       "303778       2.0       1.0       1.0       NaN       NaN       1.0  \n",
       "\n",
       "[34545 rows x 358 columns]"
      ]
     },
     "execution_count": 2,
     "metadata": {},
     "output_type": "execute_result"
    }
   ],
   "source": [
    "# Run this cell without changes\n",
    "df = pd.read_csv(\"case_study.csv\", index_col=0, low_memory=False)\n",
    "df"
   ]
  },
  {
   "cell_type": "markdown",
   "metadata": {},
   "source": [
    "Our main column of interest is called `PHYSHLTH`. We display summary statistics and plot a distribution below:"
   ]
  },
  {
   "cell_type": "code",
   "execution_count": 3,
   "metadata": {},
   "outputs": [
    {
     "data": {
      "text/plain": [
       "count    34545.000000\n",
       "mean        60.213403\n",
       "std         37.504566\n",
       "min          1.000000\n",
       "25%         15.000000\n",
       "50%         88.000000\n",
       "75%         88.000000\n",
       "max         99.000000\n",
       "Name: PHYSHLTH, dtype: float64"
      ]
     },
     "execution_count": 3,
     "metadata": {},
     "output_type": "execute_result"
    }
   ],
   "source": [
    "# Run this cell without changes\n",
    "df['PHYSHLTH'].describe()"
   ]
  },
  {
   "cell_type": "code",
   "execution_count": 4,
   "metadata": {},
   "outputs": [
    {
     "data": {
      "image/png": "[encoded data removed]",
      "text/plain": [
       "<Figure size 640x480 with 1 Axes>"
      ]
     },
     "metadata": {},
     "output_type": "display_data"
    }
   ],
   "source": [
    "# Run this cell without changes\n",
    "fig, ax = plt.subplots()\n",
    "ax.hist(df[\"PHYSHLTH\"], bins=\"auto\")\n",
    "ax.set_xlabel(\"PHYSHLTH\")\n",
    "ax.set_ylabel(\"Count\")\n",
    "ax.set_title(\"Distribution of PHYSHLTH in Raw Data\");\n",
    "plt.show()"
   ]
  },
  {
   "cell_type": "markdown",
   "metadata": {},
   "source": [
    "This feature is supposed to represent the number of days with bad physical health out of the past 30 days. Do you see anything wrong with what is displayed above? Explain."
   ]
  },
  {
   "cell_type": "code",
   "execution_count": 5,
   "metadata": {},
   "outputs": [
    {
     "data": {
      "text/plain": [
       "'\\nNone\\n'"
      ]
     },
     "execution_count": 5,
     "metadata": {},
     "output_type": "execute_result"
    }
   ],
   "source": [
    "# Replace None with appropriate text\n",
    "\"\"\"\n",
    "None\n",
    "\"\"\""
   ]
  },
  {
   "cell_type": "markdown",
   "metadata": {},
   "source": [
    "Look in the data dictionary, page 17, to understand what is happening with these values. Then edit the cell below so:\n",
    "\n",
    "* The records where the `PHYSHLTH` value label is `None` are converted to 0\n",
    "* The records where the `PHYSHLTH` value label is `Number of days` are kept as-is\n",
    "* All other records are dropped (i.e. records with `Don't know/Not sure`, `Refused`, and `Not asked or Missing` value labels for `PHYSHLTH` are dropped)"
   ]
  },
  {
   "cell_type": "code",
   "execution_count": 6,
   "metadata": {},
   "outputs": [
    {
     "name": "stdout",
     "output_type": "stream",
     "text": [
      "Original value counts:\n",
      "PHYSHLTH\n",
      "1.0      1538\n",
      "2.0      1993\n",
      "3.0      1187\n",
      "4.0       622\n",
      "5.0      1092\n",
      "6.0       187\n",
      "7.0       641\n",
      "8.0        99\n",
      "9.0        15\n",
      "10.0      751\n",
      "11.0        8\n",
      "12.0       69\n",
      "13.0       10\n",
      "14.0      326\n",
      "15.0      640\n",
      "16.0       16\n",
      "17.0       15\n",
      "18.0       19\n",
      "19.0       10\n",
      "20.0      402\n",
      "21.0       70\n",
      "22.0       12\n",
      "23.0        4\n",
      "24.0        7\n",
      "25.0      159\n",
      "26.0        7\n",
      "27.0       22\n",
      "28.0       57\n",
      "29.0       35\n",
      "30.0     2438\n",
      "77.0      493\n",
      "88.0    21296\n",
      "99.0      305\n",
      "Name: count, dtype: int64\n",
      "\n",
      "Cleaned value counts:\n",
      "PHYSHLTH\n",
      "0.0     21296\n",
      "1.0      1538\n",
      "2.0      1993\n",
      "3.0      1187\n",
      "4.0       622\n",
      "5.0      1092\n",
      "6.0       187\n",
      "7.0       641\n",
      "8.0        99\n",
      "9.0        15\n",
      "10.0      751\n",
      "11.0        8\n",
      "12.0       69\n",
      "13.0       10\n",
      "14.0      326\n",
      "15.0      640\n",
      "16.0       16\n",
      "17.0       15\n",
      "18.0       19\n",
      "19.0       10\n",
      "20.0      402\n",
      "21.0       70\n",
      "22.0       12\n",
      "23.0        4\n",
      "24.0        7\n",
      "25.0      159\n",
      "26.0        7\n",
      "27.0       22\n",
      "28.0       57\n",
      "29.0       35\n",
      "30.0     2438\n",
      "Name: count, dtype: int64\n",
      "\n",
      "Cleaned summary statistics:\n",
      "count    33747.000000\n",
      "mean         4.085341\n",
      "std          8.513293\n",
      "min          0.000000\n",
      "25%          0.000000\n",
      "50%          0.000000\n",
      "75%          3.000000\n",
      "max         30.000000\n",
      "Name: PHYSHLTH, dtype: float64\n"
     ]
    }
   ],
   "source": [
    "# Your code here\n",
    "# Create a copy of the original dataframe to preserve raw data\n",
    "df_clean = df.copy()\n",
    "\n",
    "# Display value counts before cleaning\n",
    "print(\"Original value counts:\")\n",
    "print(df_clean['PHYSHLTH'].value_counts().sort_index())\n",
    "\n",
    "# Convert records where PHYSHLTH = 88 (None) to 0\n",
    "df_clean.loc[df_clean['PHYSHLTH'] == 88, 'PHYSHLTH'] = 0\n",
    "\n",
    "# Drop records with other special codes:\n",
    "# 77 = Don't know/Not sure\n",
    "# 99 = Refused  \n",
    "# BLANK = Not asked or Missing\n",
    "df_clean = df_clean[df_clean['PHYSHLTH'] <= 30]  # Keep only values 0-30 (valid number of days)\n",
    "\n",
    "# Display value counts after cleaning\n",
    "print(\"\\nCleaned value counts:\")\n",
    "print(df_clean['PHYSHLTH'].value_counts().sort_index())\n",
    "\n",
    "# Display summary statistics after cleaning\n",
    "print(\"\\nCleaned summary statistics:\")\n",
    "print(df_clean['PHYSHLTH'].describe())"
   ]
  },
  {
   "cell_type": "markdown",
   "metadata": {},
   "source": [
    "Run the code below to ensure you have the correct, cleaned dataframe:"
   ]
  },
  {
   "cell_type": "code",
   "execution_count": 7,
   "metadata": {},
   "outputs": [],
   "source": [
    "# Run this cell without changes\n",
    "\n",
    "# We should have fewer rows, the same number of columns\n",
    "assert df_clean.shape == (33747, 358)\n",
    "\n",
    "# The maximum value in this column should now be 30\n",
    "assert df_clean[\"PHYSHLTH\"].max() == 30.0"
   ]
  },
  {
   "cell_type": "markdown",
   "metadata": {},
   "source": [
    "Now we can look at the same descriptive information on our cleaned data:"
   ]
  },
  {
   "cell_type": "code",
   "execution_count": 8,
   "metadata": {},
   "outputs": [
    {
     "data": {
      "text/plain": [
       "count    33747.000000\n",
       "mean         4.085341\n",
       "std          8.513293\n",
       "min          0.000000\n",
       "25%          0.000000\n",
       "50%          0.000000\n",
       "75%          3.000000\n",
       "max         30.000000\n",
       "Name: PHYSHLTH, dtype: float64"
      ]
     },
     "execution_count": 8,
     "metadata": {},
     "output_type": "execute_result"
    }
   ],
   "source": [
    "# Run this cell without changes\n",
    "df_clean['PHYSHLTH'].describe()"
   ]
  },
  {
   "cell_type": "code",
   "execution_count": 9,
   "metadata": {},
   "outputs": [
    {
     "data": {
      "image/png": "[encoded data removed]",
      "text/plain": [
       "<Figure size 640x480 with 1 Axes>"
      ]
     },
     "metadata": {},
     "output_type": "display_data"
    }
   ],
   "source": [
    "# Run this cell without changes\n",
    "fig, ax = plt.subplots()\n",
    "ax.hist(df_clean[\"PHYSHLTH\"])\n",
    "ax.set_xlabel(\"PHYSHLTH\")\n",
    "ax.set_ylabel(\"Count\")\n",
    "ax.set_title(\"Distribution of PHYSHLTH in Cleaned Data\");\n",
    "plt.show()"
   ]
  },
  {
   "cell_type": "markdown",
   "metadata": {},
   "source": [
    "That looks a lot more reasonable. Let's move on to the next step."
   ]
  },
  {
   "cell_type": "markdown",
   "metadata": {},
   "source": [
    "## 2. Describe the Distribution of Health Status by State\n",
    "\n",
    "As mentioned previously, this dataset only includes data from three states."
   ]
  },
  {
   "cell_type": "code",
   "execution_count": 10,
   "metadata": {},
   "outputs": [
    {
     "data": {
      "text/plain": [
       "_STATE\n",
       "36.0    11876\n",
       "34.0    11458\n",
       "9.0     10413\n",
       "Name: count, dtype: int64"
      ]
     },
     "execution_count": 10,
     "metadata": {},
     "output_type": "execute_result"
    }
   ],
   "source": [
    "# Run this cell without changes\n",
    "df_clean[\"_STATE\"].value_counts()"
   ]
  },
  {
   "cell_type": "markdown",
   "metadata": {},
   "source": [
    "Look in the data dictionary, pages 2-3, to determine which states map onto which codes. Then replace the numbers with strings representing the state names."
   ]
  },
  {
   "cell_type": "code",
   "execution_count": 13,
   "metadata": {},
   "outputs": [
    {
     "name": "stdout",
     "output_type": "stream",
     "text": [
      "Column names in dataframe:\n",
      "['_STATE', 'FMONTH', 'IDATE', 'IMONTH', 'IDAY', 'IYEAR', 'DISPCODE', 'SEQNO', '_PSU', 'CTELENM1', 'PVTRESD1', 'COLGHOUS', 'STATERE1', 'CELLFON4', 'LADULT', 'NUMADULT', 'NUMMEN', 'NUMWOMEN', 'SAFETIME', 'CTELNUM1', 'CELLFON5', 'CADULT', 'PVTRESD3', 'CCLGHOUS', 'CSTATE1', 'LANDLINE', 'HHADULT', 'GENHLTH', 'PHYSHLTH', 'MENTHLTH', 'POORHLTH', 'HLTHPLN1', 'PERSDOC2', 'MEDCOST', 'CHECKUP1', 'BPHIGH4', 'BPMEDS', 'CHOLCHK1', 'TOLDHI2', 'CHOLMED1', 'CVDINFR4', 'CVDCRHD4', 'CVDSTRK3', 'ASTHMA3', 'ASTHNOW', 'CHCSCNCR', 'CHCOCNCR', 'CHCCOPD1', 'HAVARTH3', 'ADDEPEV2', 'CHCKIDNY', 'DIABETE3', 'DIABAGE2', 'LMTJOIN3', 'ARTHDIS2', 'ARTHSOCL', 'JOINPAI1', 'SEX', 'MARITAL', 'EDUCA', 'RENTHOM1', 'NUMHHOL2', 'NUMPHON2', 'CPDEMO1A', 'VETERAN3', 'EMPLOY1', 'CHILDREN', 'INCOME2', 'INTERNET', 'WEIGHT2', 'HEIGHT3', 'PREGNANT', 'DEAF', 'BLIND', 'DECIDE', 'DIFFWALK', 'DIFFDRES', 'DIFFALON', 'SMOKE100', 'SMOKDAY2', 'STOPSMK2', 'LASTSMK2', 'USENOW3', 'ECIGARET', 'ECIGNOW', 'ALCDAY5', 'AVEDRNK2', 'DRNK3GE5', 'MAXDRNKS', 'FRUIT2', 'FRUITJU2', 'FVGREEN1', 'FRENCHF1', 'POTATOE1', 'VEGETAB2', 'EXERANY2', 'EXRACT11', 'EXEROFT1', 'EXERHMM1', 'EXRACT21', 'EXEROFT2', 'EXERHMM2', 'STRENGTH', 'SEATBELT', 'FLUSHOT6', 'FLSHTMY2', 'PNEUVAC3', 'SHINGLE2', 'HIVTST6', 'HIVTSTD3', 'HIVRISK5', 'PDIABTST', 'PREDIAB1', 'INSULIN', 'BLDSUGAR', 'FEETCHK2', 'DOCTDIAB', 'CHKHEMO3', 'FEETCHK', 'EYEEXAM', 'DIABEYE', 'DIABEDU', 'COPDCOGH', 'COPDFLEM', 'COPDBRTH', 'COPDBTST', 'COPDSMOK', 'HAREHAB1', 'STREHAB1', 'CVDASPRN', 'ASPUNSAF', 'RLIVPAIN', 'RDUCHART', 'RDUCSTRK', 'BPEATHBT', 'BPSALT', 'BPALCHOL', 'BPEXER', 'BPEATADV', 'BPSLTADV', 'BPALCADV', 'BPEXRADV', 'BPMEDADV', 'BPHI2MR', 'ARTTODAY', 'ARTHWGT', 'ARTHEXER', 'ARTHEDU', 'ASTHMAGE', 'ASATTACK', 'ASERVIST', 'ASDRVIST', 'ASRCHKUP', 'ASACTLIM', 'ASYMPTOM', 'ASNOSLEP', 'ASTHMED3', 'ASINHALR', 'PAINACT2', 'QLMENTL2', 'QLSTRES2', 'QLHLTH2', 'SLEPTIM1', 'ADSLEEP', 'SLEPDAY1', 'SLEPSNO2', 'SLEPBRTH', 'MEDICARE', 'HLTHCVR1', 'DELAYMED', 'DLYOTHER', 'NOCOV121', 'LSTCOVRG', 'DRVISITS', 'MEDSCOS1', 'CARERCVD', 'MEDBILL1', 'ASBIALCH', 'ASBIDRNK', 'ASBIBING', 'ASBIADVC', 'ASBIRDUC', 'CNCRDIFF', 'CNCRAGE', 'CNCRTYP1', 'CSRVTRT2', 'CSRVDOC1', 'CSRVSUM', 'CSRVRTRN', 'CSRVINST', 'CSRVINSR', 'CSRVDEIN', 'CSRVCLIN', 'CSRVPAIN', 'CSRVCTL1', 'SSBSUGR2', 'SSBFRUT3', 'WTCHSALT', 'DRADVISE', 'MARIJANA', 'USEMRJN1', 'RSNMRJNA', 'PFPPRVN2', 'TYPCNTR7', 'NOBCUSE6', 'IMFVPLAC', 'HPVADVC2', 'HPVADSHT', 'TETANUS', 'LCSFIRST', 'LCSLAST', 'LCSNUMCG', 'LCSCTSCN', 'CAREGIV1', 'CRGVREL2', 'CRGVLNG1', 'CRGVHRS1', 'CRGVPRB2', 'CRGVPERS', 'CRGVHOUS', 'CRGVMST2', 'CRGVEXPT', 'CIMEMLOS', 'CDHOUSE', 'CDASSIST', 'CDHELP', 'CDSOCIAL', 'CDDISCUS', 'EMTSUPRT', 'LSATISFY', 'SDHBILLS', 'SDHMOVE', 'HOWSAFE1', 'SDHFOOD', 'SDHMEALS', 'SDHMONEY', 'SDHSTRES', 'SXORIENT', 'TRNSGNDR', 'FIREARM4', 'GUNLOAD', 'LOADULK2', 'RCSGENDR', 'RCSRLTN2', 'CASTHDX2', 'CASTHNO2', 'QSTVER', 'QSTLANG', 'MSCODE', '_STSTR', '_STRWT', '_RAWRAKE', '_WT2RAKE', '_IMPRACE', '_CHISPNC', '_CRACE1', '_CPRACE', '_CLLCPWT', '_DUALUSE', '_DUALCOR', '_LLCPWT2', '_LLCPWT', '_RFHLTH', '_PHYS14D', '_MENT14D', '_HCVU651', '_RFHYPE5', '_CHOLCH1', '_RFCHOL1', '_MICHD', '_LTASTH1', '_CASTHM1', '_ASTHMS1', '_DRDXAR1', '_LMTACT1', '_LMTWRK1', '_LMTSCL1', '_PRACE1', '_MRACE1', '_HISPANC', '_RACE', '_RACEG21', '_RACEGR3', '_RACE_G1', '_AGEG5YR', '_AGE65YR', '_AGE80', '_AGE_G', 'HTIN4', 'HTM4', 'WTKG3', '_BMI5', '_BMI5CAT', '_RFBMI5', '_CHLDCNT', '_EDUCAG', '_INCOMG', '_SMOKER3', '_RFSMOK3', '_ECIGSTS', '_CURECIG', 'DRNKANY5', 'DROCDY3_', '_RFBING5', '_DRNKWEK', '_RFDRHV5', 'FTJUDA2_', 'FRUTDA2_', 'GRENDA1_', 'FRNCHDA_', 'POTADA1_', 'VEGEDA2_', '_MISFRT1', '_MISVEG1', '_FRTRES1', '_VEGRES1', '_FRUTSU1', '_VEGESU1', '_FRTLT1A', '_VEGLT1A', '_FRT16A', '_VEG23A', '_FRUITE1', '_VEGETE1', '_TOTINDA', 'METVL11_', 'METVL21_', 'MAXVO2_', 'FC60_', 'ACTIN11_', 'ACTIN21_', 'PADUR1_', 'PADUR2_', 'PAFREQ1_', 'PAFREQ2_', '_MINAC11', '_MINAC21', 'STRFREQ_', 'PAMISS1_', 'PAMIN11_', 'PAMIN21_', 'PA1MIN_', 'PAVIG11_', 'PAVIG21_', 'PA1VIGM_', '_PACAT1', '_PAINDX1', '_PA150R2', '_PA300R2', '_PA30021', '_PASTRNG', '_PAREC1', '_PASTAE1', '_RFSEAT2', '_RFSEAT3', '_FLSHOT6', '_PNEUMO2', '_AIDTST3']\n",
      "\n",
      "State-related columns:\n",
      "['_STATE', 'STATERE1', 'CSTATE1']\n",
      "\n",
      "Current values in _STATE column:\n",
      "_STATE\n",
      "New York       11876\n",
      "New Jersey     11458\n",
      "Connecticut    10413\n",
      "Name: count, dtype: int64\n",
      "\n",
      "State value counts after mapping:\n",
      "_STATE\n",
      "New York       11876\n",
      "New Jersey     11458\n",
      "Connecticut    10413\n",
      "Name: count, dtype: int64\n",
      "\n",
      "Final state column:\n",
      "STATE\n",
      "New York       11876\n",
      "New Jersey     11458\n",
      "Connecticut    10413\n",
      "Name: count, dtype: int64\n"
     ]
    }
   ],
   "source": [
    "# Your code here\n",
    "# Replace state codes with state names\n",
    "# First, let's check what the actual column name is\n",
    "print(\"Column names in dataframe:\")\n",
    "print(df_clean.columns.tolist())\n",
    "\n",
    "# Look for state-related columns\n",
    "state_columns = [col for col in df_clean.columns if 'state' in col.lower() or 'STATE' in col]\n",
    "print(\"\\nState-related columns:\")\n",
    "print(state_columns)\n",
    "\n",
    "# The column is likely still called '_STATE', so let's work with that\n",
    "print(\"\\nCurrent values in _STATE column:\")\n",
    "print(df_clean['_STATE'].value_counts())\n",
    "\n",
    "# Replace state codes with state names\n",
    "df_clean['_STATE'] = df_clean['_STATE'].replace({\n",
    "    9: 'Connecticut',\n",
    "    34: 'New Jersey', \n",
    "    36: 'New York'\n",
    "})\n",
    "\n",
    "# Verify the mapping\n",
    "print(\"\\nState value counts after mapping:\")\n",
    "print(df_clean['_STATE'].value_counts())\n",
    "\n",
    "# Now rename the column to STATE\n",
    "df_clean = df_clean.rename(columns={'_STATE': 'STATE'})\n",
    "\n",
    "# Verify the final result\n",
    "print(\"\\nFinal state column:\")\n",
    "print(df_clean['STATE'].value_counts())"
   ]
  },
  {
   "cell_type": "markdown",
   "metadata": {},
   "source": [
    "Below, we check the values:"
   ]
  },
  {
   "cell_type": "code",
   "execution_count": 14,
   "metadata": {},
   "outputs": [],
   "source": [
    "# Run this cell without changes\n",
    "\n",
    "# Shape should be the same\n",
    "assert df_clean.shape == (33747, 358)\n",
    "\n",
    "# Values in state column should be changed\n",
    "assert sorted(list(df_clean[\"STATE\"].value_counts().index)) == ['Connecticut', 'New Jersey', 'New York']"
   ]
  },
  {
   "cell_type": "code",
   "execution_count": 18,
   "metadata": {},
   "outputs": [
    {
     "data": {
      "image/png": "[encoded data removed]",
      "text/plain": [
       "<Figure size 1500x600 with 1 Axes>"
      ]
     },
     "metadata": {},
     "output_type": "display_data"
    }
   ],
   "source": [
    "# Run this cell without changes\n",
    "\n",
    "ny = df_clean.loc[df_clean[\"STATE\"] == \"New York\", \"PHYSHLTH\"]\n",
    "nj = df_clean.loc[df_clean[\"STATE\"] == \"New Jersey\", \"PHYSHLTH\"]\n",
    "ct = df_clean.loc[df_clean[\"STATE\"] == \"Connecticut\", \"PHYSHLTH\"]\n",
    "\n",
    "fig, ax = plt.subplots(figsize=(15, 6))\n",
    "\n",
    "ax.hist(\n",
    "    x=[ny, nj, ct],\n",
    "    label=[\"New York\", \"New Jersey\", \"Connecticut\"],\n",
    "    bins=range(32),\n",
    "    align=\"left\"\n",
    ")\n",
    "\n",
    "ax.set_xlabel(\"PHYSHLTH\")\n",
    "ax.set_ylabel(\"Count\")\n",
    "ax.set_title(\"Distribution of PHYSHLTH by State\")\n",
    "\n",
    "ax.legend(title=\"State\");\n",
    "plt.show()"
   ]
  },
  {
   "cell_type": "markdown",
   "metadata": {},
   "source": [
    "Looking at the plot above, does the distribution seem to differ by state?\n",
    "\n",
    "(Just answer based on a visual inspection; we will do the statistical assessment next.)"
   ]
  },
  {
   "cell_type": "code",
   "execution_count": null,
   "metadata": {},
   "outputs": [],
   "source": [
    "# Replace None with appropriate text\n",
    "\"\"\"\n",
    "None\n",
    "\"\"\""
   ]
  },
  {
   "cell_type": "markdown",
   "metadata": {},
   "source": [
    "For the statistical test, we will be comparing the *means* of `PHYSHLTH` across states, as a representation of the overall distribution. In other words, when operationalizing the question **does `PHYSHLTH` differ by state?** we want to answer that in terms of the mean `PHYSHLTH`.\n",
    "\n",
    "Let's look at those means:"
   ]
  },
  {
   "cell_type": "code",
   "execution_count": 19,
   "metadata": {},
   "outputs": [
    {
     "data": {
      "text/plain": [
       "STATE\n",
       "Connecticut    3.688562\n",
       "New Jersey     4.380957\n",
       "New York       4.148030\n",
       "Name: PHYSHLTH, dtype: float64"
      ]
     },
     "execution_count": 19,
     "metadata": {},
     "output_type": "execute_result"
    }
   ],
   "source": [
    "# Run this cell without changes\n",
    "df_clean.groupby(\"STATE\")[\"PHYSHLTH\"].mean()"
   ]
  },
  {
   "cell_type": "markdown",
   "metadata": {},
   "source": [
    "You likely noted that the overall distribution looked about the same, but these means are different. We have a range from Connecticut with about 3.7 days of bad health to New Jersey with about 4.4 days. But is that difference statistically significant?"
   ]
  },
  {
   "cell_type": "markdown",
   "metadata": {},
   "source": [
    "Identify which of the statistical tests you have learned is the most appropriate for this question, and why. Make sure you mention what kinds of variables are being compared (numeric and categorical), and how many categories there are."
   ]
  },
  {
   "cell_type": "code",
   "execution_count": 20,
   "metadata": {},
   "outputs": [
    {
     "data": {
      "text/plain": [
       "\"\\nBased on the analysis requirements, the most appropriate statistical test is ANOVA (Analysis of Variance).\\n\\nHere's why ANOVA is the correct choice:\\n\\nVariable types being compared:\\n\\nDependent variable: PHYSHLTH (numeric/continuous) - average number of bad physical health days\\n\\nIndependent variable: STATE (categorical) - with three categories (Connecticut, New Jersey, New York)\\n\\nNumber of categories: There are three independent groups/states being compared\\n\\nObjective: We want to determine if there are statistically significant differences in the means of PHYSHLTH across these three states\\n\""
      ]
     },
     "execution_count": 20,
     "metadata": {},
     "output_type": "execute_result"
    }
   ],
   "source": [
    "# Replace None with appropriate text\n",
    "\"\"\"\n",
    "Based on the analysis requirements, the most appropriate statistical test is ANOVA (Analysis of Variance).\n",
    "\n",
    "Here's why ANOVA is the correct choice:\n",
    "\n",
    "Variable types being compared:\n",
    "\n",
    "Dependent variable: PHYSHLTH (numeric/continuous) - average number of bad physical health days\n",
    "\n",
    "Independent variable: STATE (categorical) - with three categories (Connecticut, New Jersey, New York)\n",
    "\n",
    "Number of categories: There are three independent groups/states being compared\n",
    "\n",
    "Objective: We want to determine if there are statistically significant differences in the means of PHYSHLTH across these three states\n",
    "\"\"\""
   ]
  },
  {
   "cell_type": "markdown",
   "metadata": {},
   "source": [
    "Now, identify the null and alternative hypotheses:"
   ]
  },
  {
   "cell_type": "code",
   "execution_count": 21,
   "metadata": {},
   "outputs": [
    {
     "data": {
      "text/plain": [
       "\"\\nThe hypotheses for this ANOVA test would be:\\n\\nNull hypothesis (H₀): μ₁ = μ₂ = μ₃ (The mean PHYSHLTH is equal across all three states)\\n\\nAlternative hypothesis (H₁): At least one state's mean PHYSHLTH is different from the others\\n\""
      ]
     },
     "execution_count": 21,
     "metadata": {},
     "output_type": "execute_result"
    }
   ],
   "source": [
    "# Replace None with appropriate text\n",
    "\"\"\"\n",
    "The hypotheses for this ANOVA test would be:\n",
    "\n",
    "Null hypothesis (H₀): μ₁ = μ₂ = μ₃ (The mean PHYSHLTH is equal across all three states)\n",
    "\n",
    "Alternative hypothesis (H₁): At least one state's mean PHYSHLTH is different from the others\n",
    "\"\"\""
   ]
  },
  {
   "cell_type": "markdown",
   "metadata": {},
   "source": [
    "In the cell below, we set up and execute the statistical test for you. If this doesn't match your previous answer about which test to perform, look at the solution branch to understand why this is the appropriate test."
   ]
  },
  {
   "cell_type": "code",
   "execution_count": 22,
   "metadata": {},
   "outputs": [
    {
     "data": {
      "text/html": [
       "<div>\n",
       "<style scoped>\n",
       "    .dataframe tbody tr th:only-of-type {\n",
       "        vertical-align: middle;\n",
       "    }\n",
       "\n",
       "    .dataframe tbody tr th {\n",
       "        vertical-align: top;\n",
       "    }\n",
       "\n",
       "    .dataframe thead th {\n",
       "        text-align: right;\n",
       "    }\n",
       "</style>\n",
       "<table border=\"1\" class=\"dataframe\">\n",
       "  <thead>\n",
       "    <tr style=\"text-align: right;\">\n",
       "      <th></th>\n",
       "      <th>df</th>\n",
       "      <th>sum_sq</th>\n",
       "      <th>mean_sq</th>\n",
       "      <th>F</th>\n",
       "      <th>PR(&gt;F)</th>\n",
       "    </tr>\n",
       "  </thead>\n",
       "  <tbody>\n",
       "    <tr>\n",
       "      <th>C(_STATE)</th>\n",
       "      <td>2.0</td>\n",
       "      <td>4.984762e+04</td>\n",
       "      <td>24923.812110</td>\n",
       "      <td>17.736454</td>\n",
       "      <td>2.000361e-08</td>\n",
       "    </tr>\n",
       "    <tr>\n",
       "      <th>Residual</th>\n",
       "      <td>34542.0</td>\n",
       "      <td>4.853948e+07</td>\n",
       "      <td>1405.230825</td>\n",
       "      <td>NaN</td>\n",
       "      <td>NaN</td>\n",
       "    </tr>\n",
       "  </tbody>\n",
       "</table>\n",
       "</div>"
      ],
      "text/plain": [
       "                df        sum_sq       mean_sq          F        PR(>F)\n",
       "C(_STATE)      2.0  4.984762e+04  24923.812110  17.736454  2.000361e-08\n",
       "Residual   34542.0  4.853948e+07   1405.230825        NaN           NaN"
      ]
     },
     "execution_count": 22,
     "metadata": {},
     "output_type": "execute_result"
    }
   ],
   "source": [
    "# Run this cell without changes\n",
    "import statsmodels.api as sm\n",
    "from statsmodels.formula.api import ols\n",
    "\n",
    "formula = 'PHYSHLTH ~ C(_STATE)'\n",
    "lm = ols(formula, df).fit()\n",
    "sm.stats.anova_lm(lm)"
   ]
  },
  {
   "cell_type": "markdown",
   "metadata": {},
   "source": [
    "Interpret the results of this statistical test below. What is the calculated p-value? Were we able to reject the null hypothesis at an alpha of 0.05? What does this say about how `PHYSHLTH` varies by state? What recommendations would you make to the business?"
   ]
  },
  {
   "cell_type": "markdown",
   "metadata": {},
   "source": [
    "**\n",
    "Based on the ANOVA results, here's my interpretation:\n",
    "\n",
    "Calculated p-value: 2.000361e-08 (which is 0.00000002000361)\n",
    "\n",
    "Statistical Conclusion:\n",
    "\n",
    "✅ We reject the null hypothesis at an alpha level of 0.05\n",
    "\n",
    "The extremely small p-value (2.00e-08) is far below the significance threshold of 0.05\n",
    "\n",
    "The F-statistic of 17.74 is quite large, indicating substantial between-group variation relative to within-group variation\n",
    "What this means for PHYSHLTH by state:\n",
    "There are statistically significant differences in the average number of bad physical health days among Connecticut, New Jersey, and New York. The differences we observed in the means (CT: 3.69, NJ: 4.38, NY: 4.15) are not due to random chance.\n",
    "\n",
    "Business Recommendations:\n",
    "\n",
    "Market-Specific Interventions: Develop state-specific health programs since health needs differ significantly across these markets\n",
    "\n",
    "Focus on New Jersey: Given NJ has the highest average bad health days (4.38), consider:\n",
    "\n",
    "Targeted wellness programs for NJ members\n",
    "\n",
    "Investigate underlying factors contributing to poorer health in NJ\n",
    "\n",
    "Potential for specialized insurance products addressing NJ-specific health challenges\n",
    "\n",
    "Learn from Connecticut: CT has the best health outcomes (3.69 days) - study what factors contribute to this and consider replicating successful elements in other states\n",
    "\n",
    "Further Investigation: Conduct deeper analysis to understand why these differences exist (socioeconomic factors, healthcare access, environmental factors, etc.)\n",
    "\n",
    "Resource Allocation: Direct more health resources and interventions toward New Jersey where the need appears greatest\n",
    "**\n"
   ]
  },
  {
   "cell_type": "markdown",
   "metadata": {},
   "source": [
    "With that section wrapped up, let's move on to the next step."
   ]
  },
  {
   "cell_type": "markdown",
   "metadata": {},
   "source": [
    "## 3. Describe the Relationship between Health Status and Home Ownership Status\n",
    "\n",
    "This time, we want to categorize respondents by demographic information: specifically, we'll look at whether or not they own their home.\n",
    "\n",
    "Once again, this will require some data preparation. The variable of interest is contained in the `RENTHOM1` column. Currently the values look like this:"
   ]
  },
  {
   "cell_type": "code",
   "execution_count": 24,
   "metadata": {},
   "outputs": [
    {
     "data": {
      "text/plain": [
       "RENTHOM1\n",
       "1.0    22056\n",
       "2.0    10611\n",
       "3.0     1576\n",
       "9.0      206\n",
       "7.0       96\n",
       "Name: count, dtype: int64"
      ]
     },
     "execution_count": 24,
     "metadata": {},
     "output_type": "execute_result"
    }
   ],
   "source": [
    "# Run this cell without changes\n",
    "df[\"RENTHOM1\"].value_counts()"
   ]
  },
  {
   "cell_type": "markdown",
   "metadata": {},
   "source": [
    "In the cell below, modify `df` so that we have dropped all records where the `RENTHOM1` value label is neither `Own` nor `Rent`, and we have replaced the numeric codes with `Own` and `Rent` respectively. You can find more information about codes on page 33 of the data dictionary."
   ]
  },
  {
   "cell_type": "code",
   "execution_count": 31,
   "metadata": {},
   "outputs": [
    {
     "name": "stdout",
     "output_type": "stream",
     "text": [
      "Original RENTHOM1 value counts:\n",
      "RENTHOM1\n",
      "1.0    21690\n",
      "2.0    10244\n",
      "3.0     1526\n",
      "7.0       93\n",
      "9.0      194\n",
      "Name: count, dtype: int64\n",
      "\n",
      "Cleaned RENTHOM1 value counts:\n",
      "RENTHOM1\n",
      "Own     21690\n",
      "Rent    10244\n",
      "Name: count, dtype: int64\n",
      "\n",
      "Dataframe shape after cleaning: (31934, 358)\n"
     ]
    }
   ],
   "source": [
    "# Your code here\n",
    "# First, let's check the current value counts\n",
    "print(\"Original RENTHOM1 value counts:\")\n",
    "print(df_clean['RENTHOM1'].value_counts().sort_index())\n",
    "\n",
    "# According to data dictionary page 33:\n",
    "# 1 = Own\n",
    "# 2 = Rent\n",
    "# 3 = Other arrangement\n",
    "# 7 = Don't know/Not sure\n",
    "# 9 = Refused\n",
    "# BLANK = Not asked or Missing\n",
    "\n",
    "# Filter to keep only Own (1) and Rent (2) records\n",
    "df_clean = df_clean[df_clean['RENTHOM1'].isin([1, 2])]\n",
    "\n",
    "# Replace numeric codes with descriptive labels\n",
    "df_clean['RENTHOM1'] = df_clean['RENTHOM1'].replace({\n",
    "    1: 'Own',\n",
    "    2: 'Rent'\n",
    "})\n",
    "\n",
    "# Verify the cleaning\n",
    "print(\"\\nCleaned RENTHOM1 value counts:\")\n",
    "print(df_clean['RENTHOM1'].value_counts())\n",
    "\n",
    "print(f\"\\nDataframe shape after cleaning: {df_clean.shape}\")"
   ]
  },
  {
   "cell_type": "code",
   "execution_count": 32,
   "metadata": {},
   "outputs": [
    {
     "data": {
      "text/plain": [
       "RENTHOM1\n",
       "Own     21690\n",
       "Rent    10244\n",
       "Name: count, dtype: int64"
      ]
     },
     "execution_count": 32,
     "metadata": {},
     "output_type": "execute_result"
    }
   ],
   "source": [
    "# Run this cell without changes\n",
    "df_clean[\"RENTHOM1\"].value_counts()"
   ]
  },
  {
   "cell_type": "markdown",
   "metadata": {},
   "source": [
    "Below, we check that this was done correctly:"
   ]
  },
  {
   "cell_type": "code",
   "execution_count": 33,
   "metadata": {},
   "outputs": [],
   "source": [
    "# Run this cell without changes\n",
    "\n",
    "# Number of rows should be smaller again\n",
    "assert df_clean.shape == (31934, 358)\n",
    "\n",
    "# Only two values should be present in this column\n",
    "assert sorted(list(df_clean[\"RENTHOM1\"].value_counts().index)) == ['Own', 'Rent']"
   ]
  },
  {
   "cell_type": "markdown",
   "metadata": {},
   "source": [
    "Now, similar to the previous step, create a plot that shows the distribution of `PHYSHLTH` for those who own vs. rent their homes, including appropriate axis labels and legend. Because there is more of an imbalance of categories this time (more than twice as many owners as renters, compared to nearly-even numbers from New York, New Jersey, and Connecticut), make sure you add the argument `density=True`, so that the y-axis shows the density (proportion) rather than the count."
   ]
  },
  {
   "cell_type": "code",
   "execution_count": 34,
   "metadata": {},
   "outputs": [
    {
     "data": {
      "image/png": "[encoded data removed]",
      "text/plain": [
       "<Figure size 1000x600 with 1 Axes>"
      ]
     },
     "metadata": {},
     "output_type": "display_data"
    },
    {
     "name": "stdout",
     "output_type": "stream",
     "text": [
      "Summary statistics by home ownership status:\n",
      "\n",
      "Home Owners:\n",
      "count    21690.000000\n",
      "mean         3.531213\n",
      "std          7.962651\n",
      "min          0.000000\n",
      "25%          0.000000\n",
      "50%          0.000000\n",
      "75%          2.000000\n",
      "max         30.000000\n",
      "Name: PHYSHLTH, dtype: float64\n",
      "\n",
      "Renters:\n",
      "count    10244.000000\n",
      "mean         5.197970\n",
      "std          9.424111\n",
      "min          0.000000\n",
      "25%          0.000000\n",
      "50%          0.000000\n",
      "75%          5.000000\n",
      "max         30.000000\n",
      "Name: PHYSHLTH, dtype: float64\n"
     ]
    }
   ],
   "source": [
    "# Your code here\n",
    "# Create the plot\n",
    "plt.figure(figsize=(10, 6))\n",
    "\n",
    "# Plot density for homeowners\n",
    "plt.hist(df_clean[df_clean['RENTHOM1'] == 'Own']['PHYSHLTH'], \n",
    "         bins=30, alpha=0.7, density=True, label='Own', color='blue')\n",
    "\n",
    "# Plot density for renters\n",
    "plt.hist(df_clean[df_clean['RENTHOM1'] == 'Rent']['PHYSHLTH'], \n",
    "         bins=30, alpha=0.7, density=True, label='Rent', color='orange')\n",
    "\n",
    "# Add labels and title\n",
    "plt.xlabel('Number of Bad Physical Health Days (PHYSHLTH)')\n",
    "plt.ylabel('Density (Proportion)')\n",
    "plt.title('Distribution of Bad Physical Health Days by Home Ownership Status')\n",
    "plt.legend()\n",
    "plt.grid(True, alpha=0.3)\n",
    "\n",
    "# Show the plot\n",
    "plt.show()\n",
    "\n",
    "# Also show summary statistics for comparison\n",
    "print(\"Summary statistics by home ownership status:\")\n",
    "print(\"\\nHome Owners:\")\n",
    "print(df_clean[df_clean['RENTHOM1'] == 'Own']['PHYSHLTH'].describe())\n",
    "print(\"\\nRenters:\")\n",
    "print(df_clean[df_clean['RENTHOM1'] == 'Rent']['PHYSHLTH'].describe())"
   ]
  },
  {
   "cell_type": "markdown",
   "metadata": {},
   "source": [
    "Then run this code to find the averages:"
   ]
  },
  {
   "cell_type": "code",
   "execution_count": 35,
   "metadata": {},
   "outputs": [
    {
     "data": {
      "text/plain": [
       "RENTHOM1\n",
       "Own     62.139282\n",
       "Rent    56.663557\n",
       "Name: PHYSHLTH, dtype: float64"
      ]
     },
     "execution_count": 35,
     "metadata": {},
     "output_type": "execute_result"
    }
   ],
   "source": [
    "# Run this cell without changes\n",
    "df.groupby(\"RENTHOM1\")[\"PHYSHLTH\"].mean()"
   ]
  },
  {
   "cell_type": "markdown",
   "metadata": {},
   "source": [
    "Now, interpret the plot and averages. Does it seem like there a difference in the number of unhealthy days between those who rent their homes and those who own their homes? How does this compare to the distributions by state?"
   ]
  },
  {
   "cell_type": "code",
   "execution_count": null,
   "metadata": {},
   "outputs": [],
   "source": [
    "# Replace None with appropriate text\n",
    "\"\"\"\n",
    "None\n",
    "\"\"\""
   ]
  },
  {
   "cell_type": "markdown",
   "metadata": {},
   "source": [
    "Now, choose and execute an appropriate statistical test. Make sure you describe why you chose the test, the null and alternative hypotheses, and what the result of the test means."
   ]
  },
  {
   "cell_type": "code",
   "execution_count": 36,
   "metadata": {},
   "outputs": [
    {
     "name": "stdout",
     "output_type": "stream",
     "text": [
      "T-statistic: -15.4801\n",
      "P-value: 0.0000000000\n",
      "Mean PHYSHLTH for homeowners: 3.531\n",
      "Mean PHYSHLTH for renters: 5.198\n"
     ]
    }
   ],
   "source": [
    "# Your code here (create additional cells as needed)\n",
    "from scipy import stats\n",
    "\n",
    "# Separate the groups\n",
    "own_health = df_clean[df_clean['RENTHOM1'] == 'Own']['PHYSHLTH']\n",
    "rent_health = df_clean[df_clean['RENTHOM1'] == 'Rent']['PHYSHLTH']\n",
    "\n",
    "# Perform independent samples t-test\n",
    "t_stat, p_value = stats.ttest_ind(own_health, rent_health, equal_var=False)\n",
    "\n",
    "print(f\"T-statistic: {t_stat:.4f}\")\n",
    "print(f\"P-value: {p_value:.10f}\")\n",
    "print(f\"Mean PHYSHLTH for homeowners: {own_health.mean():.3f}\")\n",
    "print(f\"Mean PHYSHLTH for renters: {rent_health.mean():.3f}\")"
   ]
  },
  {
   "cell_type": "markdown",
   "metadata": {},
   "source": [
    "Perfect! Now we have the correct cleaned data results. Here's the interpretation:\n",
    "\n",
    "Statistical Test Results:\n",
    "\n",
    "T-statistic: -15.4801 (large negative value indicates renters have significantly higher PHYSHLTH)\n",
    "\n",
    "P-value: 0.0000000000 (extremely small, far below α = 0.0001)\n",
    "\n",
    "Means: Homeowners: 3.53 days, Renters: 5.20 days\n",
    "\n",
    "Interpretation:\n",
    "✅ We strongly reject the null hypothesis - There is a statistically significant difference in bad physical health days between homeowners and renters.\n",
    "Key Findings:\n",
    "\n",
    "Renters experience 1.67 more bad physical health days per month on average compared to homeowners (5.20 vs 3.53 days)\n",
    "\n",
    "This difference is highly statistically significant (p < 0.0001)\n",
    "\n",
    "The negative t-statistic confirms that renters have worse health outcomes\n",
    "\n",
    "Business Recommendations:\n",
    "\n",
    "Targeted Interventions: Develop specialized health programs for renter populations who experience significantly worse health outcomes\n",
    "\n",
    "Housing-Health Connection: Explore partnerships with housing organizations to address the link between housing stability and health\n",
    "\n",
    "Insurance Products: Consider developing insurance products or wellness programs specifically designed for renters\n",
    "\n",
    "Root Cause Analysis: Investigate why renters have worse health - is it due to stress, environmental factors, socioeconomic status, or access to healthcare?\n",
    "\n",
    "Preventive Care: Increase preventive care and health education outreach to renter communities\n",
    "\n",
    "The results show a clear health disparity based on housing status that FHI should address in their service offerings and community health initiatives."
   ]
  },
  {
   "cell_type": "markdown",
   "metadata": {},
   "source": [
    "## 4. Describe the Relationship between Chronic Sickness and Nicotine Use\n",
    "\n",
    "Once again, this will require some preparation before we can run the statistical test. Create a new column `NICOTINE_USE` with 1 representing someone who uses or has used nicotine in some form, and 0 representing someone who hasn't.\n",
    "\n",
    "We define nicotine use as:\n",
    "\n",
    "* Answered `Yes` to the `SMOKE100` question (*Have you smoked at least 100 cigarettes in your entire life?*, page 43), OR\n",
    "* Answered `Every day` or `Some days` to the `USENOW3` question (*Do you currently use chewing tobacco, snuff, or snus every day, some days, or not at all?*, page 46), OR\n",
    "* Answered `Yes` to the `ECIGARET` question (*Have you ever used an e-cigarette or other electronic vaping product, even just one time, in your entire life?*, page 46)\n",
    "\n",
    "If a record matches one or more of the above criteria, `NICOTINE_USE` should be 1. Otherwise, `NICOTINE_USE` should be 0. Go ahead and keep all of the \"Don't know\" or \"Refused\" answers as 0."
   ]
  },
  {
   "cell_type": "code",
   "execution_count": 37,
   "metadata": {},
   "outputs": [
    {
     "name": "stdout",
     "output_type": "stream",
     "text": [
      "SMOKE100 value counts:\n",
      "SMOKE100\n",
      "1.0    12942\n",
      "2.0    17543\n",
      "7.0      147\n",
      "9.0       37\n",
      "Name: count, dtype: int64\n",
      "\n",
      "USENOW3 value counts:\n",
      "USENOW3\n",
      "1.0      198\n",
      "2.0      289\n",
      "3.0    30029\n",
      "7.0       26\n",
      "9.0       74\n",
      "Name: count, dtype: int64\n",
      "\n",
      "ECIGARET value counts:\n",
      "ECIGARET\n",
      "1.0     3756\n",
      "2.0    26521\n",
      "7.0       16\n",
      "9.0       47\n",
      "Name: count, dtype: int64\n",
      "\n",
      "NICOTINE_USE value counts:\n",
      "NICOTINE_USE\n",
      "0    17980\n",
      "1    13954\n",
      "Name: count, dtype: int64\n",
      "\n",
      "Percentage of nicotine users: 43.70%\n",
      "\n",
      "Cross-tabulation with SMOKE100:\n",
      "SMOKE100        1.0    2.0  7.0  9.0\n",
      "NICOTINE_USE                        \n",
      "0                 0  16545  135   35\n",
      "1             12942    998   12    2\n",
      "\n",
      "Cross-tabulation with USENOW3:\n",
      "USENOW3       1.0  2.0    3.0  7.0  9.0\n",
      "NICOTINE_USE                           \n",
      "0               0    0  16629   16   53\n",
      "1             198  289  13400   10   21\n",
      "\n",
      "Cross-tabulation with ECIGARET:\n",
      "ECIGARET       1.0    2.0  7.0  9.0\n",
      "NICOTINE_USE                       \n",
      "0                0  16501    7   28\n",
      "1             3756  10020    9   19\n"
     ]
    },
    {
     "data": {
      "text/plain": [
       "NICOTINE_USE\n",
       "0    0.563036\n",
       "1    0.436964\n",
       "Name: proportion, dtype: float64"
      ]
     },
     "execution_count": 37,
     "metadata": {},
     "output_type": "execute_result"
    }
   ],
   "source": [
    "# Your code here\n",
    "# First, let's check the current value distributions for the relevant columns\n",
    "print(\"SMOKE100 value counts:\")\n",
    "print(df_clean['SMOKE100'].value_counts().sort_index())\n",
    "print(\"\\nUSENOW3 value counts:\")\n",
    "print(df_clean['USENOW3'].value_counts().sort_index())\n",
    "print(\"\\nECIGARET value counts:\")\n",
    "print(df_clean['ECIGARET'].value_counts().sort_index())\n",
    "\n",
    "# Create NICOTINE_USE column\n",
    "df_clean['NICOTINE_USE'] = 0  # Initialize with 0 (non-user)\n",
    "\n",
    "# Apply the nicotine use criteria:\n",
    "# 1. Smoked at least 100 cigarettes (SMOKE100 = 1)\n",
    "df_clean.loc[df_clean['SMOKE100'] == 1, 'NICOTINE_USE'] = 1\n",
    "\n",
    "# 2. Current smokeless tobacco use (USENOW3 = 1 or 2 for Every day or Some days)\n",
    "df_clean.loc[df_clean['USENOW3'].isin([1, 2]), 'NICOTINE_USE'] = 1\n",
    "\n",
    "# 3. Ever used e-cigarettes (ECIGARET = 1)\n",
    "df_clean.loc[df_clean['ECIGARET'] == 1, 'NICOTINE_USE'] = 1\n",
    "\n",
    "# Verify the results\n",
    "print(\"\\nNICOTINE_USE value counts:\")\n",
    "print(df_clean['NICOTINE_USE'].value_counts())\n",
    "print(f\"\\nPercentage of nicotine users: {(df_clean['NICOTINE_USE'].mean() * 100):.2f}%\")\n",
    "\n",
    "# Show cross-tabulation with original columns for validation\n",
    "print(\"\\nCross-tabulation with SMOKE100:\")\n",
    "print(pd.crosstab(df_clean['NICOTINE_USE'], df_clean['SMOKE100']))\n",
    "print(\"\\nCross-tabulation with USENOW3:\")\n",
    "print(pd.crosstab(df_clean['NICOTINE_USE'], df_clean['USENOW3']))\n",
    "print(\"\\nCross-tabulation with ECIGARET:\")\n",
    "print(pd.crosstab(df_clean['NICOTINE_USE'], df_clean['ECIGARET']))\n",
    "# Look at the distribution of values\n",
    "df_clean[\"NICOTINE_USE\"].value_counts(normalize=True)"
   ]
  },
  {
   "cell_type": "markdown",
   "metadata": {},
   "source": [
    "This time, let's treat health status as a categorical variable. We'll say that a \"chronically sick\" person is a person who reports that their physical health was not good for 15 or more out of the past 30 days. (This is a simplification but it will work for this analysis.)\n",
    "\n",
    "In the cell below, create a new column of `df` called `CHRONIC`, which is 0 for records where `PHYSHLTH` is less than 15, and 1 for records where `PHYSHLTH` is 15 or more."
   ]
  },
  {
   "cell_type": "code",
   "execution_count": 38,
   "metadata": {},
   "outputs": [
    {
     "name": "stdout",
     "output_type": "stream",
     "text": [
      "CHRONIC value counts:\n",
      "CHRONIC\n",
      "0    28246\n",
      "1     3688\n",
      "Name: count, dtype: int64\n",
      "\n",
      "Percentage of chronically sick: 11.55%\n",
      "\n",
      "PHYSHLTH summary by CHRONIC status:\n",
      "           count       mean       std   min   25%   50%   75%   max\n",
      "CHRONIC                                                            \n",
      "0        28246.0   1.224032  2.650907   0.0   0.0   0.0   1.0  14.0\n",
      "1         3688.0  25.831345  5.948771  15.0  20.0  30.0  30.0  30.0\n",
      "\n",
      "Cross-tabulation of CHRONIC vs PHYSHLTH ranges:\n",
      "PHYSHLTH_RANGE   0-4   5-9  10-14  15-19  20-24  25-29\n",
      "CHRONIC                                               \n",
      "0               6037  1596    394      0      0      0\n",
      "1                  0     0    605    442    241   2400\n"
     ]
    },
    {
     "data": {
      "text/plain": [
       "CHRONIC\n",
       "0    28246\n",
       "1     3688\n",
       "Name: count, dtype: int64"
      ]
     },
     "execution_count": 38,
     "metadata": {},
     "output_type": "execute_result"
    }
   ],
   "source": [
    "# Your code here\n",
    "# Create CHRONIC column\n",
    "df_clean['CHRONIC'] = 0  # Initialize with 0 (not chronically sick)\n",
    "\n",
    "# Set CHRONIC = 1 for records where PHYSHLTH >= 15\n",
    "df_clean.loc[df_clean['PHYSHLTH'] >= 15, 'CHRONIC'] = 1\n",
    "\n",
    "# Verify the results\n",
    "print(\"CHRONIC value counts:\")\n",
    "print(df_clean['CHRONIC'].value_counts())\n",
    "print(f\"\\nPercentage of chronically sick: {(df_clean['CHRONIC'].mean() * 100):.2f}%\")\n",
    "\n",
    "# Show summary statistics for PHYSHLTH by CHRONIC status\n",
    "print(\"\\nPHYSHLTH summary by CHRONIC status:\")\n",
    "print(df_clean.groupby('CHRONIC')['PHYSHLTH'].describe())\n",
    "\n",
    "# Optional: Show cross-tabulation to validate the cutoff\n",
    "print(\"\\nCross-tabulation of CHRONIC vs PHYSHLTH ranges:\")\n",
    "df_clean['PHYSHLTH_RANGE'] = pd.cut(df_clean['PHYSHLTH'], \n",
    "                             bins=[0, 5, 10, 15, 20, 25, 30, 35],\n",
    "                             labels=['0-4', '5-9', '10-14', '15-19', '20-24', '25-29', '30+'])\n",
    "print(pd.crosstab(df_clean['CHRONIC'], df_clean['PHYSHLTH_RANGE']))\n",
    "# View the distribution of the newly-created column\n",
    "df_clean[\"CHRONIC\"].value_counts()"
   ]
  },
  {
   "cell_type": "markdown",
   "metadata": {},
   "source": [
    "Now we can view the crosstabs for these two categorical variables, as well as display their distributions:"
   ]
  },
  {
   "cell_type": "code",
   "execution_count": 39,
   "metadata": {},
   "outputs": [
    {
     "data": {
      "text/html": [
       "<div>\n",
       "<style scoped>\n",
       "    .dataframe tbody tr th:only-of-type {\n",
       "        vertical-align: middle;\n",
       "    }\n",
       "\n",
       "    .dataframe tbody tr th {\n",
       "        vertical-align: top;\n",
       "    }\n",
       "\n",
       "    .dataframe thead th {\n",
       "        text-align: right;\n",
       "    }\n",
       "</style>\n",
       "<table border=\"1\" class=\"dataframe\">\n",
       "  <thead>\n",
       "    <tr style=\"text-align: right;\">\n",
       "      <th>NICOTINE_USE</th>\n",
       "      <th>0</th>\n",
       "      <th>1</th>\n",
       "    </tr>\n",
       "    <tr>\n",
       "      <th>CHRONIC</th>\n",
       "      <th></th>\n",
       "      <th></th>\n",
       "    </tr>\n",
       "  </thead>\n",
       "  <tbody>\n",
       "    <tr>\n",
       "      <th>0</th>\n",
       "      <td>16332</td>\n",
       "      <td>11914</td>\n",
       "    </tr>\n",
       "    <tr>\n",
       "      <th>1</th>\n",
       "      <td>1648</td>\n",
       "      <td>2040</td>\n",
       "    </tr>\n",
       "  </tbody>\n",
       "</table>\n",
       "</div>"
      ],
      "text/plain": [
       "NICOTINE_USE      0      1\n",
       "CHRONIC                   \n",
       "0             16332  11914\n",
       "1              1648   2040"
      ]
     },
     "execution_count": 39,
     "metadata": {},
     "output_type": "execute_result"
    }
   ],
   "source": [
    "# Run this cell without changes\n",
    "contingency_table = pd.crosstab(index=df_clean[\"CHRONIC\"], columns=df_clean[\"NICOTINE_USE\"])\n",
    "contingency_table"
   ]
  },
  {
   "cell_type": "code",
   "execution_count": 41,
   "metadata": {},
   "outputs": [
    {
     "data": {
      "image/png": "[encoded data removed]",
      "text/plain": [
       "<Figure size 640x480 with 1 Axes>"
      ]
     },
     "metadata": {},
     "output_type": "display_data"
    },
    {
     "data": {
      "image/png": "[encoded data removed]",
      "text/plain": [
       "<Figure size 640x480 with 1 Axes>"
      ]
     },
     "metadata": {},
     "output_type": "display_data"
    }
   ],
   "source": [
    "# Run this cell without changes\n",
    "\n",
    "no_nicotine_use = df_clean.loc[df_clean[\"NICOTINE_USE\"] == 0, \"CHRONIC\"]\n",
    "nicotine_use = df_clean.loc[df_clean[\"NICOTINE_USE\"] == 1, \"CHRONIC\"]\n",
    "\n",
    "fig, ax = plt.subplots()\n",
    "\n",
    "ax.hist(\n",
    "    x=[no_nicotine_use, nicotine_use],\n",
    "    label=[\"No Nicotine Use\", \"Nicotine Use\"],\n",
    "    bins=[0,1,2],\n",
    "    align=\"left\"\n",
    ")\n",
    "\n",
    "ax.set_ylabel(\"Count\")\n",
    "ax.set_xticks([0,1])\n",
    "ax.set_xticklabels([\"Not Chronically Sick\", \"Chronically Sick\"])\n",
    "ax.set_title(\"Distribution of Chronic Sickness by Nicotine Use\")\n",
    "\n",
    "ax.legend();\n",
    "plt.show()"
   ]
  },
  {
   "cell_type": "markdown",
   "metadata": {},
   "source": [
    "Once again, it appears that there is a difference in health outcomes between these categories. In the cell below, select an appropriate statistical test, describe the null and alternative hypotheses, execute the test, and interpret the result."
   ]
  },
  {
   "cell_type": "code",
   "execution_count": 42,
   "metadata": {},
   "outputs": [
    {
     "name": "stdout",
     "output_type": "stream",
     "text": [
      "Contingency Table:\n",
      "CHRONIC           0     1\n",
      "NICOTINE_USE             \n",
      "0             16332  1648\n",
      "1             11914  2040\n",
      "\n",
      "Chi-square statistic: 228.2265\n",
      "P-value: 0.0000000000\n",
      "Degrees of freedom: 1\n",
      "\n",
      "Expected frequencies:\n",
      "[[15903.52226467  2076.47773533]\n",
      " [12342.47773533  1611.52226467]]\n"
     ]
    }
   ],
   "source": [
    "# Your code here (create additional cells as needed)\n",
    "#Hypotheses:\n",
    "\n",
    "# Null hypothesis (H₀): There is no association between nicotine use and chronic health status (they are independent)\n",
    "\n",
    "#Alternative hypothesis (H₁): There is an association between nicotine use and chronic health status (they are dependent)\n",
    "from scipy.stats import chi2_contingency\n",
    "\n",
    "# Create contingency table\n",
    "contingency_table_1 = pd.crosstab(df_clean['NICOTINE_USE'], df_clean['CHRONIC'])\n",
    "print(\"Contingency Table:\")\n",
    "print(contingency_table_1)\n",
    "print()\n",
    "\n",
    "# Perform chi-square test\n",
    "chi2, p_value, dof, expected = chi2_contingency(contingency_table_1)\n",
    "\n",
    "print(f\"Chi-square statistic: {chi2:.4f}\")\n",
    "print(f\"P-value: {p_value:.10f}\")\n",
    "print(f\"Degrees of freedom: {dof}\")\n",
    "print(\"\\nExpected frequencies:\")\n",
    "print(expected)"
   ]
  },
  {
   "cell_type": "markdown",
   "metadata": {},
   "source": [
    "*** Based on typical health data patterns, I expect:\n",
    "\n",
    "Higher proportion of chronic illness among nicotine users\n",
    "\n",
    "A statistically significant result (p < 0.05)\n",
    "\n",
    "Rejection of the null hypothesis\n",
    "\n",
    "Interpretation: If the test shows a significant result, it would indicate that nicotine use is associated with chronic health problems, which would have important implications for health insurance risk assessment and targeted intervention programs. ***"
   ]
  },
  {
   "cell_type": "markdown",
   "metadata": {},
   "source": [
    "## 5. Choose Your Own Question\n",
    "\n",
    "Now that you have investigated physical health and chronic sickness and their relationships with state, home ownership, and nicotine use, you will conduct a similar investigation with variables of your choosing.\n",
    "\n",
    "Select an independent variable based on looking at the information in the data dictionary, and perform any additional transformations needed to use it in an analysis. Then set up, execute, and interpret a statistical test that addresses the relationship between that independent variable and `PHYSHLTH`.\n",
    "\n",
    "(There is no solution branch for this question, and feel free to move on if you have already spent more than 1.5 hours on this lab.)"
   ]
  },
  {
   "cell_type": "code",
   "execution_count": 43,
   "metadata": {},
   "outputs": [
    {
     "name": "stdout",
     "output_type": "stream",
     "text": [
      "EXERANY2 value counts:\n",
      "EXERANY2\n",
      "1.0    21556\n",
      "2.0     7628\n",
      "7.0       38\n",
      "9.0       29\n",
      "Name: count, dtype: int64\n",
      "\n",
      "Cleaned EXERCISE value counts:\n",
      "EXERCISE\n",
      "Yes    21556\n",
      "No      7628\n",
      "Name: count, dtype: int64\n",
      "\n",
      "PHYSHLTH means by exercise status:\n",
      "EXERCISE\n",
      "No     6.814368\n",
      "Yes    3.122333\n",
      "Name: PHYSHLTH, dtype: float64\n"
     ]
    }
   ],
   "source": [
    "# Your code here (create additional cells as needed)\n",
    "# I'll analyze the relationship between exercise habits and physical health. Let me use the EXERANY2 variable (Exercise in past 30 days, page 40 of data dictionary).\n",
    "# First, let's examine the EXERANY2 variable\n",
    "print(\"EXERANY2 value counts:\")\n",
    "print(df_clean['EXERANY2'].value_counts().sort_index())\n",
    "\n",
    "# According to data dictionary:\n",
    "# 1 = Yes\n",
    "# 2 = No\n",
    "# 7 = Don't know/Not sure\n",
    "# 9 = Refused\n",
    "# BLANK = Not asked or Missing\n",
    "\n",
    "# Clean the data: keep only Yes (1) and No (2), convert to meaningful labels\n",
    "df_exercise = df_clean[df_clean['EXERANY2'].isin([1, 2])].copy()\n",
    "df_exercise['EXERCISE'] = df_exercise['EXERANY2'].replace({\n",
    "    1: 'Yes',\n",
    "    2: 'No'\n",
    "})\n",
    "\n",
    "# Verify the cleaning\n",
    "print(\"\\nCleaned EXERCISE value counts:\")\n",
    "print(df_exercise['EXERCISE'].value_counts())\n",
    "\n",
    "# Compare PHYSHLTH means between exercisers and non-exercisers\n",
    "print(\"\\nPHYSHLTH means by exercise status:\")\n",
    "print(df_exercise.groupby('EXERCISE')['PHYSHLTH'].mean())"
   ]
  },
  {
   "cell_type": "code",
   "execution_count": 44,
   "metadata": {},
   "outputs": [
    {
     "name": "stdout",
     "output_type": "stream",
     "text": [
      "STATISTICAL TEST RESULTS:\n",
      "T-statistic: -27.6151\n",
      "P-value: 0.0000000000\n",
      "Mean PHYSHLTH for exercisers: 3.122\n",
      "Mean PHYSHLTH for non-exercisers: 6.814\n",
      "Difference in means: 3.692\n",
      "Cohen's d (effect size): 0.400\n"
     ]
    }
   ],
   "source": [
    "# Now I'll perform an independent samples t-test to compare physical health days between exercisers and non-exercisers:\n",
    "# Separate the groups\n",
    "exercise_yes = df_exercise[df_exercise['EXERCISE'] == 'Yes']['PHYSHLTH']\n",
    "exercise_no = df_exercise[df_exercise['EXERCISE'] == 'No']['PHYSHLTH']\n",
    "\n",
    "# Perform t-test\n",
    "t_stat, p_value = stats.ttest_ind(exercise_yes, exercise_no, equal_var=False)\n",
    "\n",
    "print(\"STATISTICAL TEST RESULTS:\")\n",
    "print(f\"T-statistic: {t_stat:.4f}\")\n",
    "print(f\"P-value: {p_value:.10f}\")\n",
    "print(f\"Mean PHYSHLTH for exercisers: {exercise_yes.mean():.3f}\")\n",
    "print(f\"Mean PHYSHLTH for non-exercisers: {exercise_no.mean():.3f}\")\n",
    "print(f\"Difference in means: {exercise_no.mean() - exercise_yes.mean():.3f}\")\n",
    "\n",
    "# Calculate effect size (Cohen's d)\n",
    "pooled_std = np.sqrt((exercise_yes.std()**2 + exercise_no.std()**2) / 2)\n",
    "cohens_d = (exercise_no.mean() - exercise_yes.mean()) / pooled_std\n",
    "print(f\"Cohen's d (effect size): {cohens_d:.3f}\")"
   ]
  },
  {
   "cell_type": "markdown",
   "metadata": {},
   "source": [
    "Statistical Test Results Analysis\n",
    "Key Findings:\n",
    "\n",
    "T-statistic: -27.6151 (extremely large negative value, indicating strong difference)\n",
    "\n",
    "P-value: 0.0000000000 (highly significant, far below α = 0.05)\n",
    "\n",
    "Mean Difference: Non-exercisers have 3.69 more bad health days per month\n",
    "\n",
    "Effect Size: Cohen's d = 0.400 (moderate effect size)\n",
    "\n",
    "Statistical Interpretation\n",
    "✅ We strongly reject the null hypothesis - There is a statistically significant difference in physical health outcomes between exercisers and non-exercisers.\n",
    "\n",
    "The results show:\n",
    "\n",
    "Exercisers average only 3.12 bad health days per month\n",
    "\n",
    "Non-exercisers average 6.81 bad health days per month\n",
    "\n",
    "3.69-day difference represents a 118% increase in bad health days for non-exercisers\n",
    "\n",
    "The effect size (d=0.4) indicates a moderate but meaningful practical significance\n",
    "\n",
    "Business Recommendations for FHI\n",
    "Wellness Program Development:\n",
    "\n",
    "Create targeted exercise promotion programs\n",
    "\n",
    "Develop partnerships with gyms and fitness centers\n",
    "\n",
    "Implement corporate wellness challenges\n",
    "\n",
    "Insurance Product Innovation:\n",
    "\n",
    "Offer premium discounts for members who exercise regularly\n",
    "\n",
    "Create tiered plans with fitness incentives\n",
    "\n",
    "Develop wearable device integration for activity tracking\n",
    "\n",
    "Preventive Care Focus:\n",
    "\n",
    "Position exercise as a key preventive health strategy\n",
    "\n",
    "Educate members on the health benefits of regular activity\n",
    "\n",
    "Develop mobile app features for exercise tracking and reminders\n",
    "\n",
    "Risk Assessment:\n",
    "\n",
    "Consider exercise habits in risk modeling and pricing\n",
    "\n",
    "Identify sedentary members for targeted outreach\n",
    "\n",
    "Use this data for more accurate health risk assessment\n",
    "\n",
    "Marketing Messaging:\n",
    "\n",
    "Highlight the health benefits of exercise in marketing materials\n",
    "\n",
    "Develop success stories around members who improved health through activity\n",
    "\n",
    "Position FHI as a proactive, wellness-focused insurer\n",
    "\n",
    "Conclusion: Exercise has a statistically significant and practically meaningful impact on physical health outcomes. This represents a major opportunity for FHI to differentiate itself through exercise-focused wellness programs and innovative insurance products that reward healthy behaviors."
   ]
  },
  {
   "cell_type": "markdown",
   "metadata": {},
   "source": [
    "## Conclusion\n",
    "\n",
    "Congratulations, another cumulative lab down! In this lab you practiced reading a data dictionary, performing various data transformations with pandas, and executing statistical tests to address business questions."
   ]
  }
 ],
 "metadata": {
  "kernelspec": {
   "display_name": "Python (ray-env)",
   "language": "python",
   "name": "ray-env"
  },
  "language_info": {
   "codemirror_mode": {
    "name": "ipython",
    "version": 3
   },
   "file_extension": ".py",
   "mimetype": "text/x-python",
   "name": "python",
   "nbconvert_exporter": "python",
   "pygments_lexer": "ipython3",
   "version": "3.13.5"
  }
 },
 "nbformat": 4,
 "nbformat_minor": 4
}
